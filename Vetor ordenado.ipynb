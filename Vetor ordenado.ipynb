{
  "nbformat": 4,
  "nbformat_minor": 0,
  "metadata": {
    "colab": {
      "provenance": [],
      "authorship_tag": "ABX9TyNYe66V46pVEP1Gc/8SZGIA"
    },
    "kernelspec": {
      "name": "python3",
      "display_name": "Python 3"
    },
    "language_info": {
      "name": "python"
    }
  },
  "cells": [
    {
      "cell_type": "markdown",
      "source": [
        "VETOR ORDENADO"
      ],
      "metadata": {
        "id": "RzGURdVnl6T4"
      }
    },
    {
      "cell_type": "code",
      "execution_count": 5,
      "metadata": {
        "id": "YpEnHJfql06-"
      },
      "outputs": [],
      "source": [
        "#IMPORTANDO A BIBLIOTECA NUMPY\n",
        "import numpy as np"
      ]
    },
    {
      "cell_type": "code",
      "source": [
        "class VetorOrdenado:\n",
        "\n",
        "  def __init__(self, capacidade):\n",
        "    self.capacidade = capacidade\n",
        "    self.ultima_posicao = -1\n",
        "    self.valores = np.empty(self.capacidade, dtype=int)\n",
        "\n",
        "\n",
        "    #FUNÇÃO IMPRIME---\n",
        "    def imprime(self):\n",
        "      if self.ultima_posicao == -1:\n",
        "        print(\"O vetor está vazio\")\n",
        "      else:\n",
        "        for i in range(self.ultima_posicao + 1):\n",
        "          print(i, \" - \", self.valores[i])\n",
        "  #FUNÇÃO INSERE\n",
        "\n",
        "  def insere(self, valor):\n",
        "    if self.ultima_posicao == self.capacidade - 1:\n",
        "      print(\"Capacidade máxima atingida\")\n",
        "      return\n",
        "\n",
        "    posicao = 0\n",
        "      for i in range(self.ultima_posicao + 1):\n",
        ""
      ],
      "metadata": {
        "id": "RcS-__-VmE1v"
      },
      "execution_count": 6,
      "outputs": []
    }
  ]
}